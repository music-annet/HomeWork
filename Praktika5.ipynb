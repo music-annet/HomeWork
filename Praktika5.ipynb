{
 "cells": [
  {
   "cell_type": "markdown",
   "metadata": {},
   "source": [
    "**Задание**\n",
    "\n",
    "- Переведите содержимое файла purchase_log.txt в словарь purchases вида:{‘1840e0b9d4’: ‘Продукты’, …}\n",
    "\n",
    "-  Для каждого user_id в файле visit_log.csv определите третий столбец с категорией покупки (если покупка была, сам файл visit_log.csv изменять не надо). Запишите в файл funnel.csv визиты из файла visit_log.csv, в которых были покупки с указанием категории.\n",
    "\n",
    "Учтите условия на данные:\n",
    "- содержимое purchase_log.txt помещается в оперативную память компьютера\n",
    "- содержимое visit_log.csv - нет; используйте только построчную обработку этого файла"
   ]
  },
  {
   "cell_type": "code",
   "execution_count": 4,
   "metadata": {},
   "outputs": [],
   "source": [
    "import json"
   ]
  },
  {
   "cell_type": "code",
   "execution_count": 39,
   "metadata": {},
   "outputs": [],
   "source": [
    "user=[]\n",
    "categor=[]\n",
    "with open('purchase_log.txt', 'r', encoding='utf-8') as f:\n",
    "    content = f.readlines()[1:]\n",
    "    for line in content:\n",
    "        pur_dict=json.loads(line)\n",
    "        for key, val in pur_dict.items():\n",
    "            if key == 'user_id':\n",
    "                user.append(val)\n",
    "            else:\n",
    "                categor.append(val)\n",
    "purchases = dict(zip(user, categor))"
   ]
  },
  {
   "cell_type": "code",
   "execution_count": 40,
   "metadata": {},
   "outputs": [],
   "source": [
    "with open('visit_log.csv', 'r', encoding='utf-8') as f_read:\n",
    "    with open('funnel.csv', 'w') as f_write:\n",
    "        for line in f_read:\n",
    "            line=line.strip().split(',')\n",
    "            user_id=line[0]\n",
    "            if user_id in purchases:\n",
    "                line.append(purchases[user_id])\n",
    "            f_write.write(','.join(line)+'\\n')"
   ]
  },
  {
   "cell_type": "code",
   "execution_count": null,
   "metadata": {},
   "outputs": [],
   "source": []
  }
 ],
 "metadata": {
  "kernelspec": {
   "display_name": "Python 3",
   "language": "python",
   "name": "python3"
  },
  "language_info": {
   "codemirror_mode": {
    "name": "ipython",
    "version": 3
   },
   "file_extension": ".py",
   "mimetype": "text/x-python",
   "name": "python",
   "nbconvert_exporter": "python",
   "pygments_lexer": "ipython3",
   "version": "3.8.3"
  }
 },
 "nbformat": 4,
 "nbformat_minor": 4
}
