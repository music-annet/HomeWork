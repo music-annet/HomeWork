{
 "cells": [
  {
   "cell_type": "markdown",
   "metadata": {},
   "source": [
    "Вы работаете секретарем и вам постоянно приходят различные документы. Вы должны быть очень внимательны, чтобы не потерять ни один документ. Каталог документов хранится в следующем виде:"
   ]
  },
  {
   "cell_type": "code",
   "execution_count": 12,
   "metadata": {},
   "outputs": [],
   "source": [
    "documents = [\n",
    "    {'type': 'passport', 'number': '2207 876234', 'name': 'Василий Гупкин'},\n",
    "    {'type': 'invoice', 'number': '11-2', 'name': 'Геннадий Покемонов'},\n",
    "    {'type': 'insurance', 'number': '10006', 'name': 'Аристарх Павлов'}\n",
    "]"
   ]
  },
  {
   "cell_type": "code",
   "execution_count": 8,
   "metadata": {},
   "outputs": [],
   "source": [
    "def print_documents(documents):\n",
    "    for doc in documents:\n",
    "        print(doc)"
   ]
  },
  {
   "cell_type": "markdown",
   "metadata": {},
   "source": [
    "Перечень полок, на которых находятся документы хранится в следующем виде:"
   ]
  },
  {
   "cell_type": "code",
   "execution_count": 3,
   "metadata": {},
   "outputs": [],
   "source": [
    "directories = {\n",
    "    '1': ['2207 876234', '11-2'],\n",
    "    '2': ['10006'],\n",
    "    '3': []\n",
    "}"
   ]
  },
  {
   "cell_type": "code",
   "execution_count": 4,
   "metadata": {},
   "outputs": [],
   "source": [
    "def print_directories(directories):\n",
    "    for key,value in directories.items():\n",
    "        print(key,value)"
   ]
  },
  {
   "cell_type": "markdown",
   "metadata": {},
   "source": [
    "Необходимо реализовать пользовательские команды (внимание! это не название функций, которые должны быть выразительными, а команды, которые вводит пользователь, чтобы получить необходимый результат):\n",
    "\n",
    "* p – people – команда, которая спросит номер документа и выведет имя человека, которому он принадлежит;\n",
    "* s – shelf – команда, которая спросит номер документа и выведет номер полки, на которой он находится\n",
    "Правильно обработайте ситуации, когда пользователь будет вводить несуществующий документ.\n",
    "* l – list – команда, которая выведет список всех документов в формате\n",
    "**passport \"2207 876234\" \"Василий Гупкин\"**\n",
    "* as – add shelf – команда, которая спросит номер новой полки и добавит ее в перечень. Предусмотрите случай, когда пользователь добавляет полку, которая уже существует.\n",
    "* d – delete – команда, которая спросит номер документа и удалит его из каталога и из перечня полок. Предусмотрите сценарий, когда пользователь вводит несуществующий документ;\n",
    "* m – move – команда, которая спросит номер документа и целевую полку и переместит его с текущей полки на целевую. Корректно обработайте кейсы, когда пользователь пытается переместить несуществующий документ или переместить документ на несуществующую полку;\n",
    "*  add – команда, которая добавит новый документ в каталог и в перечень полок, спросив его номер, тип, имя владельца и номер полки, на котором он будет храниться. Корректно обработайте ситуацию, когда пользователь будет пытаться добавить документ на несуществующую полку."
   ]
  },
  {
   "cell_type": "code",
   "execution_count": 28,
   "metadata": {},
   "outputs": [
    {
     "name": "stdout",
     "output_type": "stream",
     "text": [
      "Введите номер документа34\n",
      "Неправильный номер документа\n"
     ]
    }
   ],
   "source": [
    "def people(documents):\n",
    "    user_id=input('Введите номер документа')\n",
    "    for doc in documents:\n",
    "        if doc['number']== user_id:\n",
    "            return doc['name']\n",
    "    return 'Неправильный номер документа'\n",
    "print(people(documents))"
   ]
  },
  {
   "cell_type": "code",
   "execution_count": 26,
   "metadata": {},
   "outputs": [
    {
     "name": "stdout",
     "output_type": "stream",
     "text": [
      "Введите номер документа56\n",
      "Нет такой\n"
     ]
    }
   ],
   "source": [
    "def shelf(directories):\n",
    "    user_id=input('Введите номер документа')\n",
    "    for key,value in directories.items():\n",
    "        if user_id in value:\n",
    "            shelf=key\n",
    "            return shelf\n",
    "    return 'Нет такого документа!'"
   ]
  },
  {
   "cell_type": "code",
   "execution_count": 34,
   "metadata": {},
   "outputs": [
    {
     "name": "stdout",
     "output_type": "stream",
     "text": [
      "['passport', '2207 876234', 'Василий Гупкин']\n",
      "['invoice', '11-2', 'Геннадий Покемонов']\n",
      "['insurance', '10006', 'Аристарх Павлов']\n"
     ]
    }
   ],
   "source": [
    "def lists(documents):\n",
    "    for doc in documents:\n",
    "        docs=list(doc.values())\n",
    "        print(docs)"
   ]
  },
  {
   "cell_type": "code",
   "execution_count": 45,
   "metadata": {},
   "outputs": [
    {
     "name": "stdout",
     "output_type": "stream",
     "text": [
      "Введите номер новой полки3\n",
      "Уже существует такая полка\n"
     ]
    }
   ],
   "source": [
    "def add_shelf(directories):\n",
    "    num=input('Введите номер новой полки')\n",
    "    if num in directories:\n",
    "        print('Уже существует такая полка')\n",
    "    else:\n",
    "        directories[num]=[ ]\n",
    "        print(directories)\n",
    "add_shelf(directories)"
   ]
  },
  {
   "cell_type": "code",
   "execution_count": 55,
   "metadata": {},
   "outputs": [
    {
     "name": "stdout",
     "output_type": "stream",
     "text": [
      "Введите номер документа34\n",
      "No doc\n",
      "{'1': ['2207 876234', '11-2'], '2': [], '3': [], '4': ' ', '5': '[ ]', '6': []}\n",
      "[{'type': 'passport', 'number': '2207 876234', 'name': 'Василий Гупкин'}, {'type': 'invoice', 'number': '11-2', 'name': 'Геннадий Покемонов'}]\n"
     ]
    }
   ],
   "source": [
    "def delete(documents, direсtories):\n",
    "    user_id=input('Введите номер документа')\n",
    "    for i, doc in enumerate(documents):\n",
    "        if doc['number']==user_id:\n",
    "            documents.pop(i)\n",
    "            print('Удален')\n",
    "    for key, value in directories.items():\n",
    "        if user_id in value:\n",
    "            value.remove(user_id)\n",
    "            return 'Удален'\n",
    "    return 'No doc'\n",
    "print(delete(documents, directories))\n",
    "print(directories)\n",
    "print(documents)"
   ]
  },
  {
   "cell_type": "code",
   "execution_count": null,
   "metadata": {},
   "outputs": [],
   "source": [
    "def move(documents,directories):\n",
    "    exis='False'\n",
    "    num=input('Введите номер документа')\n",
    "    sh=input('Введите номер полки')\n",
    "    if sh not in directories:\n",
    "        return"
   ]
  },
  {
   "cell_type": "code",
   "execution_count": 39,
   "metadata": {},
   "outputs": [
    {
     "name": "stdout",
     "output_type": "stream",
     "text": [
      "Введите командуl\n",
      "['passport', '2207 876234', 'Василий Гупкин']\n",
      "['invoice', '11-2', 'Геннадий Покемонов']\n",
      "['insurance', '10006', 'Аристарх Павлов']\n",
      "Введите командуq\n"
     ]
    }
   ],
   "source": [
    "def main():\n",
    "    while True:\n",
    "        user_input = input('Введите команду')\n",
    "        if user_input == 'p':\n",
    "           print(people(documents))\n",
    "        elif user_input == 's':\n",
    "            print(shelf(directories))\n",
    "        elif user_input == 'l':\n",
    "           lists(documents)\n",
    "        elif user_input == 'as':\n",
    "           add_shelf(directories)\n",
    "        elif user_input == 'd':\n",
    "            print(delete(documents, directories))\n",
    "            print(directories)\n",
    "            print(documents)\n",
    "        \n",
    "        elif user_input == 'q':\n",
    "            break\n",
    "main()"
   ]
  },
  {
   "cell_type": "code",
   "execution_count": null,
   "metadata": {},
   "outputs": [],
   "source": []
  },
  {
   "cell_type": "code",
   "execution_count": null,
   "metadata": {},
   "outputs": [],
   "source": []
  },
  {
   "cell_type": "code",
   "execution_count": null,
   "metadata": {},
   "outputs": [],
   "source": []
  },
  {
   "cell_type": "code",
   "execution_count": null,
   "metadata": {},
   "outputs": [],
   "source": []
  }
 ],
 "metadata": {
  "kernelspec": {
   "display_name": "Python 3",
   "language": "python",
   "name": "python3"
  },
  "language_info": {
   "codemirror_mode": {
    "name": "ipython",
    "version": 3
   },
   "file_extension": ".py",
   "mimetype": "text/x-python",
   "name": "python",
   "nbconvert_exporter": "python",
   "pygments_lexer": "ipython3",
   "version": "3.8.3"
  }
 },
 "nbformat": 4,
 "nbformat_minor": 4
}
