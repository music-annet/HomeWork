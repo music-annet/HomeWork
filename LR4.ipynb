{
 "cells": [
  {
   "cell_type": "markdown",
   "metadata": {},
   "source": [
    "**Задание 1**\n",
    "\n",
    "Печатные газеты использовали свой формат дат для каждого выпуска. Для каждой газеты из списка напишите формат указанной даты для перевода в объект datetime:\n",
    "The Moscow Times - Wednesday, October 2, 2002\n",
    "The Guardian - Friday, 11.10.13\n",
    "Daily News - Thursday, 18 August 1977"
   ]
  },
  {
   "cell_type": "code",
   "execution_count": 1,
   "metadata": {},
   "outputs": [],
   "source": [
    "from datetime import datetime"
   ]
  },
  {
   "cell_type": "code",
   "execution_count": 19,
   "metadata": {},
   "outputs": [
    {
     "name": "stdout",
     "output_type": "stream",
     "text": [
      "2002-10-02\n",
      "2002-10-02\n",
      "1977-08-18\n"
     ]
    }
   ],
   "source": [
    "dt1=datetime.strptime('Wednesday, October 2, 2002', '%A, %B %d, %Y')\n",
    "print(dt1.date())\n",
    "dt2=datetime.strptime('Friday, 11.10.13', '%A, %d.%m.%y')\n",
    "print(dt1.date())\n",
    "dt3=datetime.strptime('Thursday, 18 August 1977', '%A, %d %B %Y')\n",
    "print(dt3.date())"
   ]
  },
  {
   "cell_type": "markdown",
   "metadata": {},
   "source": [
    "**Задание 2**\n",
    "\n",
    "Дан поток дат в формате YYYY-MM-DD, в которых встречаются некорректные значения:\n",
    "stream = [‘2018-04-02’, ‘2018-02-29’, ‘2018-19-02’]\n",
    "\n",
    "Напишите функцию, которая проверяет эти даты на корректность. Т. е. для каждой даты возвращает True (дата корректна) или False (некорректная дата)."
   ]
  },
  {
   "cell_type": "code",
   "execution_count": 33,
   "metadata": {},
   "outputs": [
    {
     "name": "stdout",
     "output_type": "stream",
     "text": [
      "True\n",
      "False\n",
      "False\n"
     ]
    }
   ],
   "source": [
    "stream = ['2018-04-02', '2018-02-29', '2018-19-02']\n",
    "def cor(date):\n",
    "    try:\n",
    "        datetime.strptime(date, '%Y-%m-%d')\n",
    "        return True\n",
    "    except:\n",
    "        return False\n",
    "for date in stream:\n",
    "    print(cor(date))"
   ]
  },
  {
   "cell_type": "markdown",
   "metadata": {},
   "source": [
    "**Задание 3**\n",
    "\n",
    "Напишите функцию date_range, которая возвращает список дат за период от start_date до end_date. Даты должны вводиться в формате YYYY-MM-DD. В случае неверного формата или при start_date > end_date должен возвращаться пустой список.\n"
   ]
  },
  {
   "cell_type": "code",
   "execution_count": 44,
   "metadata": {},
   "outputs": [
    {
     "name": "stdout",
     "output_type": "stream",
     "text": [
      "Начальная дата:2020-01-09\n",
      "Конечная дата:2020-01-13\n",
      "['2020-01-09', '2020-01-10', '2020-01-11', '2020-01-12', '2020-01-13']\n"
     ]
    }
   ],
   "source": [
    "from datetime import timedelta\n",
    "def date_range():\n",
    "    list_date=[]\n",
    "    try:\n",
    "        start=input('Начальная дата:')\n",
    "        end=input('Конечная дата:')\n",
    "        start_date=datetime.strptime(start,'%Y-%m-%d')\n",
    "        end_date=datetime.strptime(end,'%Y-%m-%d')\n",
    "        if start_date<=end_date:\n",
    "            while start_date<=end_date:\n",
    "                list_date.append(start_date.strftime('%Y-%m-%d'))\n",
    "                start_date += timedelta(days = 1)\n",
    "            return(list_date)\n",
    "        else:\n",
    "            return list_date\n",
    "    except:\n",
    "        return list_date \n",
    "print(date_range())"
   ]
  },
  {
   "cell_type": "markdown",
   "metadata": {},
   "source": [
    "**Задание 4**\n",
    "\n",
    "Ваш коллега прислал код функции:\n",
    "\n",
    "DEFAULT_USER_COUNT = 3\n",
    "\n",
    "def delete_and_return_last_user(region, default_list=[‘A100’, ‘A101’, ‘A102’]):\n",
    "\"\"“\n",
    "Удаляет из списка default_list последнего пользователя\n",
    "и возвращает ID нового последнего пользователя.\n",
    "”\"\"\n",
    "element_to_delete = default_list[-1]\n",
    "default_list.remove(element_to_delete)\n",
    "\n",
    "return default_list[DEFAULT_USER_COUNT-2]\n",
    "При однократном вызове этой функции все работает корректно:\n",
    "delete_and_return_last_user(1)\n",
    "‘A101’\n",
    "\n",
    "Однако, при повторном вызове получается ошибка IndexError: list index out of range.\n",
    "\n",
    "**Задание:**\n",
    "\n",
    "Что значит ошибка list index out of range?\n",
    "Почему при первом запуске функция работает корректно, а при втором - нет?"
   ]
  },
  {
   "cell_type": "markdown",
   "metadata": {},
   "source": [
    "**Ответ**\n",
    "\n",
    "Ошибка  list index out of range говорит о том, что цикл выходит за пределы списка.\n",
    "Во время второй итерации в списке останется только один элемент(его индекс- нулевой), а при возврате должен возратиться элемент с индексом 1(а его в списке нет). Поэтому программа распознает это как выход за пределы массива и выдаст ошибку."
   ]
  }
 ],
 "metadata": {
  "kernelspec": {
   "display_name": "Python 3",
   "language": "python",
   "name": "python3"
  },
  "language_info": {
   "codemirror_mode": {
    "name": "ipython",
    "version": 3
   },
   "file_extension": ".py",
   "mimetype": "text/x-python",
   "name": "python",
   "nbconvert_exporter": "python",
   "pygments_lexer": "ipython3",
   "version": "3.8.3"
  }
 },
 "nbformat": 4,
 "nbformat_minor": 4
}
